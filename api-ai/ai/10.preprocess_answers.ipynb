{
 "cells": [
  {
   "cell_type": "markdown",
   "id": "04beb3c4",
   "metadata": {},
   "source": [
    "# KoBERT 모델 Fine Tunning을 위한 면접 데이터 전처리\n"
   ]
  },
  {
   "cell_type": "code",
   "execution_count": 1,
   "id": "769d78c8-bbc0-47ff-882a-fcbf24f076cc",
   "metadata": {},
   "outputs": [],
   "source": [
    "import glob\n",
    "import json\n",
    "import os\n",
    "from pprint import pprint\n",
    "\n",
    "import pandas as pd\n",
    "from tqdm import tqdm"
   ]
  },
  {
   "cell_type": "code",
   "execution_count": 2,
   "id": "5c06569b-0a70-40f6-ad5e-abda0208aa3a",
   "metadata": {},
   "outputs": [
    {
     "data": {
      "text/plain": [
       "['Validation', 'Training']"
      ]
     },
     "execution_count": 2,
     "metadata": {},
     "output_type": "execute_result"
    }
   ],
   "source": [
    "USER_HOME = os.path.expanduser(\"~\")\n",
    "DATA_HOME = os.path.join(\n",
    "    USER_HOME, \"jupyter/129.채용면접 인터뷰 데이터/01-1.정식개방데이터\"\n",
    ")\n",
    "DATA_TRAINING = os.path.join(DATA_HOME, \"Training\")\n",
    "DATA_VALIDATION = os.path.join(DATA_HOME, \"Validation\")\n",
    "\n",
    "os.listdir(DATA_HOME)"
   ]
  },
  {
   "cell_type": "code",
   "execution_count": 3,
   "metadata": {},
   "outputs": [
    {
     "name": "stderr",
     "output_type": "stream",
     "text": [
      "100%|██████████| 28/28 [00:00<00:00, 76959.71it/s]\n",
      "100%|██████████| 28/28 [00:00<00:00, 107349.65it/s]\n"
     ]
    }
   ],
   "source": [
    "for d in [DATA_TRAINING, DATA_VALIDATION]:\n",
    "    zip_list = glob.glob(os.path.join(d, \"02.라벨링데이터/*.zip\"))\n",
    "\n",
    "    for src in tqdm(zip_list):\n",
    "        dest = src.replace(\".zip\", \"\")\n",
    "\n",
    "        if os.path.exists(dest):\n",
    "            continue\n",
    "\n",
    "        try:\n",
    "            os.system(f\"unzip -q '{src}' -d '{dest}' > /dev/null 2>&1\")\n",
    "        except Exception as e:\n",
    "            print(e)"
   ]
  },
  {
   "cell_type": "code",
   "execution_count": 4,
   "id": "52dc1612",
   "metadata": {},
   "outputs": [
    {
     "name": "stdout",
     "output_type": "stream",
     "text": [
      "dict_keys(['Validation', 'Training'])\n"
     ]
    }
   ],
   "source": [
    "flist = {}\n",
    "for d in os.listdir(DATA_HOME):\n",
    "    flist[d] = glob.glob(os.path.join(DATA_HOME, d, \"*/*/*.json\"))\n",
    "\n",
    "print(flist.keys())"
   ]
  },
  {
   "cell_type": "code",
   "execution_count": 5,
   "id": "3b7344ad-5702-4f55-a345-91df160b9aec",
   "metadata": {},
   "outputs": [
    {
     "name": "stdout",
     "output_type": "stream",
     "text": [
      "9059\n",
      "['/home/ssafy/jupyter/129.채용면접 인터뷰 '\n",
      " '데이터/01-1.정식개방데이터/Validation/02.라벨링데이터/VL_05.ICT_Male_Experienced/ckmk_d_ict_m_e_19325.json',\n",
      " '/home/ssafy/jupyter/129.채용면접 인터뷰 '\n",
      " '데이터/01-1.정식개방데이터/Validation/02.라벨링데이터/VL_05.ICT_Male_Experienced/ckmk_d_ict_m_e_19281.json',\n",
      " '/home/ssafy/jupyter/129.채용면접 인터뷰 '\n",
      " '데이터/01-1.정식개방데이터/Validation/02.라벨링데이터/VL_05.ICT_Male_Experienced/ckmk_d_ict_m_e_19285.json']\n"
     ]
    }
   ],
   "source": [
    "flist = glob.glob(os.path.join(DATA_HOME, \"*/*/*/*.json\"))\n",
    "print(len(flist))\n",
    "pprint(flist[:3])"
   ]
  },
  {
   "cell_type": "markdown",
   "id": "197c630a",
   "metadata": {},
   "source": [
    "### 데이터 어떻게 생겼는지 확인\n"
   ]
  },
  {
   "cell_type": "code",
   "execution_count": 6,
   "id": "a13d40fb-ccdf-4e97-9aa7-5b9c7c0ff8d3",
   "metadata": {},
   "outputs": [
    {
     "name": "stderr",
     "output_type": "stream",
     "text": [
      "100%|██████████| 3/3 [00:00<00:00, 1149.33it/s]"
     ]
    },
    {
     "name": "stdout",
     "output_type": "stream",
     "text": [
      "{'emotion': [],\n",
      " 'intent': [{'category': 'etc',\n",
      "             'expression': 'c_sincere_job',\n",
      "             'text': '그리고   그 꿈을 이루기 위해서는 이 회사가 저에게는 가장 적합한 곳이라고 생각했기에 지원을 하게 '\n",
      "                     '됐고 여기까지 오지 않았나 생각을 합니다.'}],\n",
      " 'raw': {'text': '살아오면서 단계적인 목표를 설정을 하고 이루고 달성하고 또 실패를 하고 하면서 계속 그러한 과정이 반복이 '\n",
      "                 '되는 것 같은 같습니다. 그래서 어 이전 직장이 떠나오는 시점은 그 전 단계에 세웠던 어떤 목표가 어떤 '\n",
      "                 '달성된 시점이었다는 것을 말씀드리고 싶고요. 이전 직장을 떠나온 것은 이전 직장 마지막 단계에 세웠던 목표가 '\n",
      "                 '이전 직장보다는 다른 직장에서 수행하는 데 더 효과적이고 자아 실현의 관점에 있어서는 더 이게 적합하다고 '\n",
      "                 '생각했기 때문에 이직을 결심 했던 것 같습니다. 그리고 그 꿈을 이루기 위해서는 이 회사가 저에게는 가장 '\n",
      "                 '적합한 곳이라고 생각했기에 지원을 하게 됐고 여기까지 오지 않았나 생각을 합니다. 따라서 이전 직장은 저의 '\n",
      "                 '뭐 길고 기나긴 어떤 인생의 여러 가지 단계적 목표를 수행하는 하나의 과정이었다고 말씀드리고 싶구요. 물론 '\n",
      "                 '여기 회사에서도 제 꿈을 위해서 제 목표를 위해서 열심히 노력을 할 거고 더 나은 목표를 위해서 또는 또 '\n",
      "                 '다른 목표를 달성하기 위해서 제가 다른 근무 환경이 필요하다면 똑같은 선택을 하지 않을까 생각을 합니다.',\n",
      "         'wordCount': 141},\n",
      " 'summary': {'text': '이전 직장이 떠나오는 시점은 이전 직장 마지막 단계에 세웠던 목표가 이전 직장보다는 다른 직장에서 '\n",
      "                     '수행하는 데 더 효과적이고 자아 실현의 관점에 있어서는 더 적합하다고 생각했기 때문에 이직을 결심했던 '\n",
      "                     '것 같습니다. 이전 직장은 인생의 여러 가지 단계적 목표를 수행하는 하나의 과정이었다고 '\n",
      "                     '말씀드리겠습니다.',\n",
      "             'wordCount': 41}}\n",
      "{'emotion': [],\n",
      " 'intent': [{'category': 'attitude', 'expression': '', 'text': ''}],\n",
      " 'raw': {'text': '어떤 과제에 제가 참여를 하게 됐을 때는 그건 개인적 수준에서 또는 어떤 팀 작업 수준에서 배치가 된다는 '\n",
      "                 '점에서 일종의 주어지는 역할이죠. 그렇기 때문에 어떤 선호도의 역할은 선호도는 별로 중요하지 않다고 '\n",
      "                 '생각하는데요. 제가 뭐 주어진다면 그 안에서 개인적인 수준이다면 개인적인 수준에서 할 거고 팀 어떤 프로젝트 '\n",
      "                 '팀 구성원으로서의 제 역할을 잘 수행할 수 있도록 노력을 할 텐데 그럼에도 불구하고 선호하는 관점에서는 '\n",
      "                 '당연히 개인 프로젝트 차원이 더 선호되는 부분이 아닌가 생각을 합니다. 그 이유는 팀 프로젝트든 개인 '\n",
      "                 '프로젝트든 모두가 팀 프로젝트와 개인 프로젝트 사실 같이 진행이 됩니다. 예를 들면은 개인 수준에서 맡았던 '\n",
      "                 '프로젝트라 할지라도 관련된 내용에 대해서 늘 조직 내부에서 소통을 해야 되고 전문가의 조언을 구해야 되는 '\n",
      "                 '여러 가지 관점에서 보면 결국 의사소통의 필요성은 있다는 점이죠. 그렇지만 다만 어떤 방향을 설정하고 전략을 '\n",
      "                 '구상하는 과정에서 혼자 고민하고 혼자 결정하는 일종의 의사결정 의사 결정 절차에서만 보면 혼자 하는 게 더 '\n",
      "                 '효율적인 측면에서는 더 선호한다고 생각을 합니다.',\n",
      "         'wordCount': 142},\n",
      " 'summary': {'text': '어떤 과제에 제가 참여를 하게 됐을 때는 일종의 주어지는 역할입니다. 그래서 선호도의 역할은 선호도는 '\n",
      "                     '별로 중요하지 않다고 생각합니다. 선호하는 관점에서는 개인 프로젝트 차원이 더 선호되는 부분입니다. '\n",
      "                     '그 이유는 모든 프로젝트가 팀 프로젝트와 개인 프로젝트 같이 진행이 되기 때문이죠. 다만 의사결정 '\n",
      "                     '의사 결정 절차에서는 혼자 하는 게 더 효율적이라고 생각합니다.',\n",
      "             'wordCount': 49}}\n",
      "{'emotion': [],\n",
      " 'intent': [{'category': 'attitude', 'expression': '', 'text': ''}],\n",
      " 'raw': {'text': '누구나 장점이 있고 단점이 있지만 따지고 보면 장점이 곧 단점이고 단점이 곧 장점인 경우가 많은 것으로 '\n",
      "                 '보입니다. 저도 크게 다르지 않은데요. 제가 앞서 말씀드렸던 것처럼 제가 다른 사람과 차별화된 장점이나 뭐 '\n",
      "                 '역량에 대해서 말씀을 드렸지만 그런 부분이 다시 또 단점이 될 수 있다고 생각을 합니다. 예를 들면은 다양한 '\n",
      "                 '분야에서 경험을 해 왔던 부분은 다른 사람의 업무 분야에 대해서 잘 알기 때문에 사실 직무를 침범하는 '\n",
      "                 '단점으로 작용될 수가 있고요. 두 번째는 다양한 직급에서 활동도 경험이 있기 때문에 팀원의 역할에 '\n",
      "                 '주어졌음에도 불구하고 일시적으로 어떤 리더십을 침해하는 발언을 할 수도 있을 것 같구요. 또는 리더십의 '\n",
      "                 '입장에서 제 직무를 수행하는 과정에서도 뭐 옆에서 스포팅 해주거나 팔로잉 해주는 부분에 대해서 지나치게 '\n",
      "                 '간섭을 해서 생기는 부정적인 사례도 있었던 것 같습니다. 이 부분은 제가 최소화하고 발생하지 않도록 노력을 '\n",
      "                 '하고 있구요. 아마 그 장점을 최대한 살리기 위한 방향으로 노력을 해 오고 있다는 점 말씀드리고 싶습니다.',\n",
      "         'wordCount': 137},\n",
      " 'summary': {'text': '누구나 장점이 곧 단점이고 단점이 곧 장점인 경우가 많습니다. 다양한 분야에서 경험을 해 왔던 부분은 '\n",
      "                     '다른 사람의 업무 분야에 대해서 잘 알기 때문에 직무를 침범하는 단점이 될 수 있고, 다양한 직급에서 '\n",
      "                     '활동도 경험이 있기 때문에 일시적으로 리더십을 침해하는 발언을 할 수도 있을 것 같습니다. 이 부분은 '\n",
      "                     '제가 장점을 최대한 살리기 위한 방향으로 노력을 해 오고 있습니다.',\n",
      "             'wordCount': 56}}\n"
     ]
    },
    {
     "name": "stderr",
     "output_type": "stream",
     "text": [
      "\n"
     ]
    }
   ],
   "source": [
    "for fname in tqdm(flist[:3]):\n",
    "    with open(fname, \"r\") as f:\n",
    "        data = json.load(f)[\"dataSet\"][\"answer\"]\n",
    "        pprint(data)"
   ]
  },
  {
   "cell_type": "code",
   "execution_count": 7,
   "id": "cdd4bacc",
   "metadata": {},
   "outputs": [
    {
     "name": "stderr",
     "output_type": "stream",
     "text": [
      " 28%|██▊       | 2524/9059 [00:00<00:00, 25234.91it/s]"
     ]
    },
    {
     "name": "stdout",
     "output_type": "stream",
     "text": [
      "Invalid control character at: line 23 column 100 (char 688)\n",
      "Invalid control character at: line 34 column 165 (char 1573)\n"
     ]
    },
    {
     "name": "stderr",
     "output_type": "stream",
     "text": [
      "100%|██████████| 9059/9059 [00:00<00:00, 24184.66it/s]\n"
     ]
    }
   ],
   "source": [
    "emotion_answers = {\n",
    "    \"Training\": [],\n",
    "    \"Validation\": [],\n",
    "}\n",
    "intent_answers = {\n",
    "    \"Training\": [],\n",
    "    \"Validation\": [],\n",
    "}\n",
    "\n",
    "for fname in tqdm(flist, total=len(flist)):\n",
    "    kind = fname.replace(DATA_HOME + \"/\", \"\").split(\"/\")[0]\n",
    "\n",
    "    with open(fname, \"r\") as f:\n",
    "        try:\n",
    "            data = json.load(f)[\"dataSet\"][\"answer\"]\n",
    "\n",
    "            # [text, category, expression]\n",
    "            for e in data[\"emotion\"]:\n",
    "                if e[\"text\"] == \"\":\n",
    "                    continue\n",
    "                emotion_answers[kind].append(\n",
    "                    [e[\"text\"], e[\"category\"], e[\"expression\"]]\n",
    "                )\n",
    "\n",
    "            for e in data[\"intent\"]:\n",
    "                if e[\"text\"] == \"\":\n",
    "                    continue\n",
    "                intent_answers[kind].append([e[\"text\"], e[\"category\"], e[\"expression\"]])\n",
    "        except Exception as e:\n",
    "            print(e)"
   ]
  },
  {
   "cell_type": "code",
   "execution_count": 8,
   "id": "a02faec1",
   "metadata": {},
   "outputs": [
    {
     "data": {
      "text/plain": [
       "{'Training':                                                   text  category  expression\n",
       " 0                    라는 그런 생각이 좀 저에게 부담으로 다가오는 것 같습니다.  negative  n-distress\n",
       " 1         어 이전 직장에서 새 프로젝트 제품에 대해 글로벌 허가를 진행한 적이 있습니다.   neutral      u-fact\n",
       " 2    제가 담당한 제품은 의료기기였기 때문에   어 시장에 런칭하기 위해서는 반드시 각 ...   neutral      u-fact\n",
       " 3    그리고 제가 업무를 추진할    때도 프로세스에 대한 이해가 좀 빨라지기 때문에 그...  positive  p-interest\n",
       " 4    그리고 명상을 통해서 생각을 정리한다거나 제 마음을 차분히 하는 시간을 갖는 것을 ...  positive  p-interest\n",
       " ..                                                 ...       ...         ...\n",
       " 239  어 매년 내년에는 무얼 해 봐야지 어떤 걸 계획해서 어떤 걸 한번 해봐야지 도전해 ...  negative  n-distress\n",
       " 240   예를 들어서 저는 재학 대학 재학 시절에 축제를 진행한 경우에 경험이 경험이 있습니다.   neutral      u-fact\n",
       " 241                     하지만 저는 개인적으로 동물 실험을 반대하는 편입니다.   neutral    u-belief\n",
       " 242  또한 오락 오로지 인간의 이익을 위해 무고한 동물들을 희생시키는 것 또한 저는 비윤...   neutral    u-belief\n",
       " 243  그리고 저는 어 대학원에서 공부를 할 때 어 기후융합 통합 연구소에서 일을 하면서 ...   neutral      u-fact\n",
       " \n",
       " [244 rows x 3 columns],\n",
       " 'Validation':                                                    text  category   expression\n",
       " 0                                        저의 전공은 경제학입니다.   neutral       u-fact\n",
       " 1     저는 뭐 조직 생활하면서 저의 신념이나 가치관이나 저의 추진 방식에 대해서도   주...   neutral       u-fact\n",
       " 2     어 이런 회사들은 어 자율이라고 하는 기반에   어 최고의 어 퍼포먼스를 낼 수 있...   neutral     u-belief\n",
       " 3     두 번째 가장 자신 없는 점을 말씀드린다고 하면은   조직 문화라는 건 사실 적응의...  negative    n-anxiety\n",
       " 4     그리고 개발에 관련된 새로운 공부를 주기적으로 주기성을 가지고 어 수행을 하며 어 ...   neutral     u-belief\n",
       " ...                                                 ...       ...          ...\n",
       " 3756      어학연수 일 년을 통해서 본과 사 학년 과목은 전공은 일본어 학과를 전공했습니다.   neutral       u-fact\n",
       " 3757               타 지역에서 업무를 수행하는 것은 어 저는 가능하다고 생각합니다.   neutral     u-belief\n",
       " 3758  뭐 비행기를 타고 어디 뭐   외지를 나가는 게 아니라면 요즘에는 기차다 교통편이 ...   neutral     u-belief\n",
       " 3759                      어 결론적으로는 굉장히 만족스러웠던 공모전이었습니다.  positive  p-happiness\n",
       " 3760  하이퍼 바이저 관련돼서 실무 능력을 향상시키기 위해서는   그에 따른 보안에 대한 ...   neutral       u-fact\n",
       " \n",
       " [3761 rows x 3 columns]}"
      ]
     },
     "execution_count": 8,
     "metadata": {},
     "output_type": "execute_result"
    }
   ],
   "source": [
    "emotion_answers_df = {}\n",
    "for k, v in emotion_answers.items():\n",
    "    emotion_answers_df[k] = pd.DataFrame(\n",
    "        v, columns=[\"text\", \"category\", \"expression\"])\n",
    "\n",
    "emotion_answers_df"
   ]
  },
  {
   "cell_type": "code",
   "execution_count": 9,
   "id": "504a79bc",
   "metadata": {},
   "outputs": [
    {
     "data": {
      "text/plain": [
       "{'Training':                                                   text     category  \\\n",
       " 0    어 그 리더십을 사용해서 또 어 관련자들을 또 독려하고 그 목표를 향해서 그 목표를...  personality   \n",
       " 1    그래서 저는 다양한 사람들과 문제에 대해서 함께 고민하고 새로운 아이디어 또 해결할...  personality   \n",
       " 2                                저는 제가 팀장 성향이라고 생각합니다.   background   \n",
       " 3    실제로 프로젝트를 진행할 때 팀워크를 더 중요하고 우리가 함께 머리를 맞대서 좋은 ...  personality   \n",
       " 4         어 이전 직장에서 새 프로젝트 제품에 대해 글로벌 허가를 진행한 적이 있습니다.   background   \n",
       " ..                                                 ...          ...   \n",
       " 463  또한 오락 오로지 인간의 이익을 위해 무고한 동물들을 희생시키는 것 또한 저는 비윤...   background   \n",
       " 464  그리고 저는 어 대학원에서 공부를 할 때 어 기후융합 통합 연구소에서 일을 하면서 ...   background   \n",
       " 465  저는 그러한 갈등의 교정을 겪으면서 너무 힘들다고 생각했고 그러한 갈등을 극복하기 ...  personality   \n",
       " 466  따라서 오해가 발생했다면 그 오해가 어떤 원인으로부터 발생했는지 오해의 원인을 찾고...  personality   \n",
       " 467  따라서 그 입장 차이를 서로 알고 서로를 이해하면 극복해 나갈 수 있는 문제라고 생...  personality   \n",
       " \n",
       "      expression  \n",
       " 0         c_cop  \n",
       " 1         c_cop  \n",
       " 2      c_person  \n",
       " 3         c_cop  \n",
       " 4     c_private  \n",
       " ..          ...  \n",
       " 463     c_value  \n",
       " 464   c_private  \n",
       " 465  c_confl_mg  \n",
       " 466  c_confl_mg  \n",
       " 467  c_confl_mg  \n",
       " \n",
       " [468 rows x 3 columns],\n",
       " 'Validation':                                                    text     category  \\\n",
       " 0     그리고   그 꿈을 이루기 위해서는 이 회사가 저에게는 가장 적합한 곳이라고 생각했...          etc   \n",
       " 1     따라서 어떤 문제가 발생했을 때는   다시 일단 멈추고 이게 어떤 분야에서 현재 문...  personality   \n",
       " 2     두 번째는 파악이 되면 이 문제를   애초에 그 예방할 수 있었던 측면을 다시 생각...  personality   \n",
       " 3     홈페이지 화면이 로딩 속도가 느리다면 일단은 우선적으로 우리   우리 측 홈페이지를...   technology   \n",
       " 4     두 번째는 그   어떤 무언가를 달성하기 위해서는 뭐 어떤 오 년 간의 기간을 설정...  personality   \n",
       " ...                                                 ...          ...   \n",
       " 4885  이런 갈등이 생겼을 때는 어 원만하게 어 잘 대화를 하여서 이러한 갈등들을 잘 봉합...  personality   \n",
       " 4886  이를 위해서는 어 자신의 주장을 상대방에게 강하게 관철시키기보다는 상대방의 입장에서...  personality   \n",
       " 4887  왜냐하면 개인적으로 성과를 이루는 것도 물론 할 수 있지만 하지만 역량이 뛰어난 사...  personality   \n",
       " 4888  물론 구성원들 중에 갈등이 있거나 열심히 하지 않는 그런 분위기를 저해시키는 구성원...  personality   \n",
       " 4889  예전에는 항상 저도 혼자서 과제를 하고 보고서를 제출하는 것이 좋았었는데 한 번 마...  personality   \n",
       " \n",
       "          expression  \n",
       " 0     c_sincere_job  \n",
       " 1             c_adp  \n",
       " 2             c_adp  \n",
       " 3      i_dis_coping  \n",
       " 4             c_adp  \n",
       " ...             ...  \n",
       " 4885     c_confl_mg  \n",
       " 4886     c_confl_mg  \n",
       " 4887          c_cop  \n",
       " 4888          c_cop  \n",
       " 4889          c_cop  \n",
       " \n",
       " [4890 rows x 3 columns]}"
      ]
     },
     "execution_count": 9,
     "metadata": {},
     "output_type": "execute_result"
    }
   ],
   "source": [
    "intent_answers_df = {}\n",
    "for k, v in intent_answers.items():\n",
    "    intent_answers_df[k] = pd.DataFrame(\n",
    "        v, columns=[\"text\", \"category\", \"expression\"])\n",
    "\n",
    "intent_answers_df"
   ]
  },
  {
   "cell_type": "code",
   "execution_count": 10,
   "id": "51b1ca45",
   "metadata": {},
   "outputs": [
    {
     "data": {
      "text/plain": [
       "category  expression   \n",
       "negative  n-anxiety          5\n",
       "          n-distress        16\n",
       "neutral   u-belief          21\n",
       "          u-fact           100\n",
       "positive  n-sadness          5\n",
       "          p-achievement     19\n",
       "          p-affection       12\n",
       "          p-gratitude        1\n",
       "          p-happiness       16\n",
       "          p-interest        49\n",
       "dtype: int64"
      ]
     },
     "execution_count": 10,
     "metadata": {},
     "output_type": "execute_result"
    }
   ],
   "source": [
    "emotion_answers_df[\"Training\"].groupby(by=[\"category\", \"expression\"]).size()"
   ]
  },
  {
   "cell_type": "code",
   "execution_count": 11,
   "id": "49f40f6a",
   "metadata": {},
   "outputs": [
    {
     "data": {
      "text/plain": [
       "category     expression   \n",
       "attitude     m_critical       18\n",
       "             m_direct          3\n",
       "             m_holistic        6\n",
       "background   c_person         74\n",
       "             c_private        87\n",
       "             c_value          16\n",
       "etc          c_sincere_co      7\n",
       "             c_sincere_job    13\n",
       "personality  c_adp            17\n",
       "             c_chl             6\n",
       "             c_confl_mg       49\n",
       "             c_cop            69\n",
       "             c_imp            16\n",
       "technology   m_acct           17\n",
       "             m_admin          30\n",
       "             m_sche           40\n",
       "dtype: int64"
      ]
     },
     "execution_count": 11,
     "metadata": {},
     "output_type": "execute_result"
    }
   ],
   "source": [
    "intent_answers_df[\"Training\"].groupby(by=[\"category\", \"expression\"]).size()"
   ]
  },
  {
   "cell_type": "code",
   "execution_count": 12,
   "id": "eed17940",
   "metadata": {},
   "outputs": [],
   "source": [
    "for k, v in emotion_answers_df.items():\n",
    "    v[\"class\"] = v[[\"category\", \"expression\"]].agg(\"-\".join, axis=1)\n",
    "    v = v.drop(columns=[\"category\", \"expression\"])\n",
    "    v.to_csv(f\"./data/emotion_answers_{k}.tsv\", sep=\"\\t\", index=False, encoding=\"utf8\")"
   ]
  },
  {
   "cell_type": "code",
   "execution_count": 13,
   "id": "b47eb87e",
   "metadata": {},
   "outputs": [],
   "source": [
    "for k, v in intent_answers_df.items():\n",
    "    v[\"class\"] = v[[\"category\", \"expression\"]].agg(\"-\".join, axis=1)\n",
    "    v = v.drop(columns=[\"category\", \"expression\"])\n",
    "    v.to_csv(f\"./data/intent_answers_{k}.tsv\", sep=\"\\t\", index=False, encoding=\"utf8\")"
   ]
  },
  {
   "cell_type": "code",
   "execution_count": 14,
   "id": "2da931c0",
   "metadata": {},
   "outputs": [
    {
     "data": {
      "text/html": [
       "<div>\n",
       "<style scoped>\n",
       "    .dataframe tbody tr th:only-of-type {\n",
       "        vertical-align: middle;\n",
       "    }\n",
       "\n",
       "    .dataframe tbody tr th {\n",
       "        vertical-align: top;\n",
       "    }\n",
       "\n",
       "    .dataframe thead th {\n",
       "        text-align: right;\n",
       "    }\n",
       "</style>\n",
       "<table border=\"1\" class=\"dataframe\">\n",
       "  <thead>\n",
       "    <tr style=\"text-align: right;\">\n",
       "      <th></th>\n",
       "      <th>text</th>\n",
       "      <th>class</th>\n",
       "    </tr>\n",
       "  </thead>\n",
       "  <tbody>\n",
       "    <tr>\n",
       "      <th>0</th>\n",
       "      <td>라는 그런 생각이 좀 저에게 부담으로 다가오는 것 같습니다.</td>\n",
       "      <td>negative-n-distress</td>\n",
       "    </tr>\n",
       "    <tr>\n",
       "      <th>1</th>\n",
       "      <td>어 이전 직장에서 새 프로젝트 제품에 대해 글로벌 허가를 진행한 적이 있습니다.</td>\n",
       "      <td>neutral-u-fact</td>\n",
       "    </tr>\n",
       "    <tr>\n",
       "      <th>2</th>\n",
       "      <td>제가 담당한 제품은 의료기기였기 때문에   어 시장에 런칭하기 위해서는 반드시 각 ...</td>\n",
       "      <td>neutral-u-fact</td>\n",
       "    </tr>\n",
       "  </tbody>\n",
       "</table>\n",
       "</div>"
      ],
      "text/plain": [
       "                                                text                class\n",
       "0                  라는 그런 생각이 좀 저에게 부담으로 다가오는 것 같습니다.  negative-n-distress\n",
       "1       어 이전 직장에서 새 프로젝트 제품에 대해 글로벌 허가를 진행한 적이 있습니다.       neutral-u-fact\n",
       "2  제가 담당한 제품은 의료기기였기 때문에   어 시장에 런칭하기 위해서는 반드시 각 ...       neutral-u-fact"
      ]
     },
     "execution_count": 14,
     "metadata": {},
     "output_type": "execute_result"
    }
   ],
   "source": [
    "read_test_df = pd.read_csv(\n",
    "    \"./data/emotion_answers_Training.tsv\", sep=\"\\t\", encoding=\"utf8\"\n",
    ")\n",
    "read_test_df[:3]"
   ]
  }
 ],
 "metadata": {
  "kernelspec": {
   "display_name": "Python 3 (ipykernel)",
   "language": "python",
   "name": "python3"
  },
  "language_info": {
   "codemirror_mode": {
    "name": "ipython",
    "version": 3
   },
   "file_extension": ".py",
   "mimetype": "text/x-python",
   "name": "python",
   "nbconvert_exporter": "python",
   "pygments_lexer": "ipython3",
   "version": "3.11.8"
  }
 },
 "nbformat": 4,
 "nbformat_minor": 5
}
